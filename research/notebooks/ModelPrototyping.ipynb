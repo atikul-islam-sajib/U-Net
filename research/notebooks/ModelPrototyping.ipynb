{
 "cells": [
  {
   "cell_type": "code",
   "execution_count": 1,
   "metadata": {},
   "outputs": [],
   "source": [
    "# Import all libraries\n",
    "import os\n",
    "import torch\n",
    "from torch.utils.data import DataLoader\n",
    "from torchvision import transforms\n",
    "from PIL import Image\n"
   ]
  },
  {
   "cell_type": "code",
   "execution_count": null,
   "metadata": {},
   "outputs": [],
   "source": [
    "class Loader:\n",
    "    def __init__(self, image_path = None, batch_size = 32):\n",
    "        self.image_path = image_path\n",
    "        self.batch_size = batch_size\n",
    "    \n",
    "    def base_transformation(self):\n",
    "        pass\n",
    "    \n",
    "    def mask_transformation(self):\n",
    "        pass\n",
    "    \n",
    "    def unzip_folder(self):\n",
    "        pass\n",
    "    \n",
    "    def create_dataloader(self):\n",
    "        pass"
   ]
  }
 ],
 "metadata": {
  "kernelspec": {
   "display_name": "GPSG",
   "language": "python",
   "name": "python3"
  },
  "language_info": {
   "codemirror_mode": {
    "name": "ipython",
    "version": 3
   },
   "file_extension": ".py",
   "mimetype": "text/x-python",
   "name": "python",
   "nbconvert_exporter": "python",
   "pygments_lexer": "ipython3",
   "version": "3.9.18"
  }
 },
 "nbformat": 4,
 "nbformat_minor": 2
}
